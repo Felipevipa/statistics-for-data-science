{
 "cells": [
  {
   "cell_type": "code",
   "execution_count": 12,
   "id": "9bbddfaa",
   "metadata": {},
   "outputs": [],
   "source": [
    "from typing import List"
   ]
  },
  {
   "cell_type": "code",
   "execution_count": 13,
   "id": "f2b8f1cd",
   "metadata": {},
   "outputs": [],
   "source": [
    "Vector = List[float]"
   ]
  },
  {
   "cell_type": "code",
   "execution_count": 2,
   "id": "f97e8d39",
   "metadata": {},
   "outputs": [],
   "source": [
    "\n",
    "Matrix = List[List[float]]"
   ]
  },
  {
   "cell_type": "code",
   "execution_count": 3,
   "id": "6d7ce477",
   "metadata": {},
   "outputs": [],
   "source": [
    "A = [[1, 2, 3],    # A has 2 rows and 3 columns\n",
    "  [4, 5, 6]]"
   ]
  },
  {
   "cell_type": "code",
   "execution_count": 4,
   "id": "001b2f6b",
   "metadata": {},
   "outputs": [],
   "source": [
    "B = [[1, 2],    # B has 3 rows and 2 columns\n",
    "     [3,4],\n",
    "     [5,6]]"
   ]
  },
  {
   "cell_type": "code",
   "execution_count": 6,
   "id": "b229e405",
   "metadata": {},
   "outputs": [],
   "source": [
    "from typing import Tuple"
   ]
  },
  {
   "cell_type": "code",
   "execution_count": 7,
   "id": "e0fb4ad5",
   "metadata": {},
   "outputs": [],
   "source": [
    "def shape(A: Matrix) -> Tuple[int, int]:\n",
    "    \"\"\"Returns (# of rows of A, # of columns of A)\"\"\"\n",
    "    num_rows = len(A)\n",
    "    num_cols = len(A[0]) if A else 0  # Number of elements in first row\n",
    "    return num_rows, num_cols"
   ]
  },
  {
   "cell_type": "code",
   "execution_count": 8,
   "id": "2d300124",
   "metadata": {},
   "outputs": [],
   "source": [
    "assert shape([[1, 2, 3], [4, 5, 6]]) == (2, 3)"
   ]
  },
  {
   "cell_type": "code",
   "execution_count": 15,
   "id": "2f4c4a6b",
   "metadata": {},
   "outputs": [],
   "source": [
    "def get_row(A: Matrix, i: int) -> Vector:\n",
    "    \"\"\"Returns the i-th row of A (as a Vector)\"\"\"\n",
    "    return A[i]"
   ]
  },
  {
   "cell_type": "code",
   "execution_count": 16,
   "id": "73c8dbcb",
   "metadata": {},
   "outputs": [],
   "source": [
    "def get_columnn(A: Matrix, i: int) -> Vector:\n",
    "    \"\"\"Returns the j-th column of A (as a Vector)\"\"\"\n",
    "    return [A_i[j] for A_i in A]"
   ]
  },
  {
   "cell_type": "markdown",
   "id": "283cb3b1",
   "metadata": {},
   "source": [
    "We’ll also want to be able to create a matrix given its shape and a function for generating its elements. We can do this using a nested list comprehension:"
   ]
  },
  {
   "cell_type": "code",
   "execution_count": 1,
   "id": "898f90b9",
   "metadata": {},
   "outputs": [],
   "source": [
    "from typing import Callable"
   ]
  },
  {
   "cell_type": "code",
   "execution_count": null,
   "id": "09b2d93c",
   "metadata": {},
   "outputs": [],
   "source": [
    "def make_matrix(num_rows: int,\n",
    "                num_cols: int,\n",
    "                entry_fn: Callable[[int, int], float]) -> Matrix:\n",
    "    \"\"\"\n",
    "    Returns a num_rows x num_cols matrix\n",
    "    whose (i,j)-th entry is entry_fn(i,j)\n",
    "    \"\"\"\n",
    "    return [[entry_fn(i, j)                # given i, create a list\n",
    "            for j in range(num_cols)]      #   [entry_fn(i, 0), ... ]\n",
    "           for i in range(num_rows)]       # create one list for each i"
   ]
  }
 ],
 "metadata": {
  "kernelspec": {
   "display_name": "Python 3",
   "language": "python",
   "name": "python3"
  },
  "language_info": {
   "codemirror_mode": {
    "name": "ipython",
    "version": 3
   },
   "file_extension": ".py",
   "mimetype": "text/x-python",
   "name": "python",
   "nbconvert_exporter": "python",
   "pygments_lexer": "ipython3",
   "version": "3.6.13"
  }
 },
 "nbformat": 4,
 "nbformat_minor": 5
}
