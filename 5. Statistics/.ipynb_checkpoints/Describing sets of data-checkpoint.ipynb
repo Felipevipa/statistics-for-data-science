{
 "cells": [
  {
   "cell_type": "code",
   "execution_count": 2,
   "id": "6c76d87d",
   "metadata": {},
   "outputs": [],
   "source": [
    "from typing import List"
   ]
  },
  {
   "cell_type": "code",
   "execution_count": 3,
   "id": "17cf56ae",
   "metadata": {},
   "outputs": [],
   "source": [
    "from collections import Counter"
   ]
  },
  {
   "cell_type": "code",
   "execution_count": 4,
   "id": "2f198a13",
   "metadata": {},
   "outputs": [],
   "source": [
    "import matplotlib.pyplot as plt"
   ]
  },
  {
   "cell_type": "code",
   "execution_count": 5,
   "id": "ef3a83f0",
   "metadata": {},
   "outputs": [],
   "source": [
    "import random"
   ]
  },
  {
   "cell_type": "code",
   "execution_count": 6,
   "id": "1b69673e",
   "metadata": {},
   "outputs": [],
   "source": [
    "Vector = List[float]"
   ]
  },
  {
   "cell_type": "code",
   "execution_count": 7,
   "id": "65ec2270",
   "metadata": {},
   "outputs": [],
   "source": [
    "num_friends = [100.0,49,41,40,25,21,21,19,19,18,18,16,15,15,15,15,14,14,13,13,13,13,12,12,11,10,10,10,10,10,10,10,10,10,10,10,10,10,10,10,9,9,9,9,9,9,9,9,9,9,9,9,9,9,9,9,9,9,8,8,8,8,8,8,8,8,8,8,8,8,8,7,7,7,7,7,7,7,7,7,7,7,7,7,7,7,6,6,6,6,6,6,6,6,6,6,6,6,6,6,6,6,6,6,6,6,6,6,5,5,5,5,5,5,5,5,5,5,5,5,5,5,5,5,5,4,4,4,4,4,4,4,4,4,4,4,4,4,4,4,4,4,4,4,4,3,3,3,3,3,3,3,3,3,3,3,3,3,3,3,3,3,3,3,3,2,2,2,2,2,2,2,2,2,2,2,2,2,2,2,2,2,1,1,1,1,1,1,1,1,1,1,1,1,1,1,1,1,1,1,1,1,1,1]\n"
   ]
  },
  {
   "cell_type": "code",
   "execution_count": 8,
   "id": "01aa352d",
   "metadata": {},
   "outputs": [
    {
     "data": {
      "image/png": "[encoded data removed]",
      "text/plain": [
       "<Figure size 432x288 with 1 Axes>"
      ]
     },
     "metadata": {
      "needs_background": "light"
     },
     "output_type": "display_data"
    }
   ],
   "source": [
    "friends_counts = Counter(num_friends)\n",
    "xs = range(101)                               # largest value is 100\n",
    "ys = [friends_counts[x] for x in xs]           # height is just # of friends\n",
    "plt.bar(xs, ys)\n",
    "plt.axis([0, 101, 0, 25])\n",
    "plt.title(\"Histogram of Friend Counts\")\n",
    "plt.xlabel(\"# of friends\")\n",
    "plt.ylabel(\"# of people\")\n",
    "plt.show()"
   ]
  },
  {
   "cell_type": "code",
   "execution_count": 9,
   "id": "174382bc",
   "metadata": {},
   "outputs": [
    {
     "name": "stdout",
     "output_type": "stream",
     "text": [
      "204\n"
     ]
    }
   ],
   "source": [
    "num_points = len(num_friends)\n",
    "print(num_points)"
   ]
  },
  {
   "cell_type": "code",
   "execution_count": 10,
   "id": "e840a2d9",
   "metadata": {},
   "outputs": [],
   "source": [
    "largest_value = max(num_friends)            # 100\n",
    "smallest_value = min(num_friends)           # 1"
   ]
  },
  {
   "cell_type": "markdown",
   "id": "f79b89d1",
   "metadata": {},
   "source": [
    "which are just special cases of wanting to know the values in specific positions:"
   ]
  },
  {
   "cell_type": "code",
   "execution_count": 11,
   "id": "a2033be5",
   "metadata": {},
   "outputs": [
    {
     "name": "stdout",
     "output_type": "stream",
     "text": [
      "[1, 1, 1, 1, 1, 1, 1, 1, 1, 1, 1, 1, 1, 1, 1, 1, 1, 1, 1, 1, 1, 1, 2, 2, 2, 2, 2, 2, 2, 2, 2, 2, 2, 2, 2, 2, 2, 2, 2, 3, 3, 3, 3, 3, 3, 3, 3, 3, 3, 3, 3, 3, 3, 3, 3, 3, 3, 3, 3, 4, 4, 4, 4, 4, 4, 4, 4, 4, 4, 4, 4, 4, 4, 4, 4, 4, 4, 4, 4, 5, 5, 5, 5, 5, 5, 5, 5, 5, 5, 5, 5, 5, 5, 5, 5, 5, 6, 6, 6, 6, 6, 6, 6, 6, 6, 6, 6, 6, 6, 6, 6, 6, 6, 6, 6, 6, 6, 6, 7, 7, 7, 7, 7, 7, 7, 7, 7, 7, 7, 7, 7, 7, 7, 8, 8, 8, 8, 8, 8, 8, 8, 8, 8, 8, 8, 8, 9, 9, 9, 9, 9, 9, 9, 9, 9, 9, 9, 9, 9, 9, 9, 9, 9, 9, 10, 10, 10, 10, 10, 10, 10, 10, 10, 10, 10, 10, 10, 10, 10, 11, 12, 12, 13, 13, 13, 13, 14, 14, 15, 15, 15, 15, 16, 18, 18, 19, 19, 21, 21, 25, 40, 41, 49, 100.0]\n"
     ]
    }
   ],
   "source": [
    "sorted_values = sorted(num_friends)\n",
    "print(sorted_values)"
   ]
  },
  {
   "cell_type": "code",
   "execution_count": 12,
   "id": "fb2cac0f",
   "metadata": {},
   "outputs": [
    {
     "name": "stdout",
     "output_type": "stream",
     "text": [
      "1\n"
     ]
    }
   ],
   "source": [
    "smallest_value = sorted_values[0]           # 1\n",
    "print(smallest_value)"
   ]
  },
  {
   "cell_type": "code",
   "execution_count": 13,
   "id": "e49529b3",
   "metadata": {},
   "outputs": [
    {
     "name": "stdout",
     "output_type": "stream",
     "text": [
      "1\n"
     ]
    }
   ],
   "source": [
    "second_smallest_value = sorted_values[1]    # 1\n",
    "print(second_smallest_value)"
   ]
  },
  {
   "cell_type": "code",
   "execution_count": 14,
   "id": "91f67fc6",
   "metadata": {},
   "outputs": [
    {
     "name": "stdout",
     "output_type": "stream",
     "text": [
      "49\n"
     ]
    }
   ],
   "source": [
    "second_largest_value = sorted_values[-2]    # 49\n",
    "print(second_largest_value)"
   ]
  },
  {
   "cell_type": "markdown",
   "id": "aeb47b4f",
   "metadata": {},
   "source": [
    "### mean"
   ]
  },
  {
   "cell_type": "code",
   "execution_count": 15,
   "id": "bacea1c4",
   "metadata": {},
   "outputs": [
    {
     "data": {
      "text/plain": [
       "7.333333333333333"
      ]
     },
     "execution_count": 15,
     "metadata": {},
     "output_type": "execute_result"
    }
   ],
   "source": [
    "def mean(xs: List[float]) -> float:\n",
    "    return sum(xs) / len(xs)\n",
    "\n",
    "mean(num_friends)"
   ]
  },
  {
   "cell_type": "markdown",
   "id": "0399446e",
   "metadata": {},
   "source": [
    "### median"
   ]
  },
  {
   "cell_type": "code",
   "execution_count": 16,
   "id": "6d36d921",
   "metadata": {},
   "outputs": [],
   "source": [
    "# The underscores indicate that these are \"private\" functions, as they're\n",
    "# intended to be called by our median function but not by other people\n",
    "# using our statistics library.\n",
    "def _median_odd(xs: List[float]) -> float:\n",
    "    \"\"\"If len(xs) is odd, the median is the middle element\"\"\"\n",
    "    return sorted(xs)[len(xs) // 2]\n",
    "\n",
    "def _median_even(xs: List[float]) -> float:\n",
    "    \"\"\"If len(xs) is even, it's the average of the middle two elements\"\"\"\n",
    "    sorted_xs = sorted(xs)\n",
    "    hi_midpoint = len(xs) // 2  # e.g. length 4 => hi_midpoint 2\n",
    "    return (sorted_xs[hi_midpoint - 1] + sorted_xs[hi_midpoint]) / 2\n",
    "\n",
    "def median(v: List[float]) -> float:\n",
    "    \"\"\"Finds the 'middle-most' value of v\"\"\"\n",
    "    return _median_even(v) if len(v) % 2 == 0 else _median_odd(v)"
   ]
  },
  {
   "cell_type": "code",
   "execution_count": 17,
   "id": "a5636858",
   "metadata": {},
   "outputs": [],
   "source": [
    "assert median([1, 10, 2, 9, 5]) == 5\n",
    "assert median([1, 9, 2, 10]) == (2 + 9) / 2"
   ]
  },
  {
   "cell_type": "code",
   "execution_count": 18,
   "id": "26692d9d",
   "metadata": {},
   "outputs": [
    {
     "name": "stdout",
     "output_type": "stream",
     "text": [
      "6.0\n"
     ]
    }
   ],
   "source": [
    "print(median(num_friends))"
   ]
  },
  {
   "cell_type": "markdown",
   "id": "1b25215e",
   "metadata": {},
   "source": [
    "### quantile"
   ]
  },
  {
   "cell_type": "code",
   "execution_count": 19,
   "id": "ddf94a3e",
   "metadata": {},
   "outputs": [],
   "source": [
    "def quantile(xs: List[float], p: float) -> float:\n",
    "    \"\"\"Returns the pth-percentile value in x\"\"\"\n",
    "    p_index = int(p*len(xs))\n",
    "    return sorted(xs)[p_index]"
   ]
  },
  {
   "cell_type": "code",
   "execution_count": 20,
   "id": "c28128ad",
   "metadata": {},
   "outputs": [
    {
     "data": {
      "text/plain": [
       "1"
      ]
     },
     "execution_count": 20,
     "metadata": {},
     "output_type": "execute_result"
    }
   ],
   "source": [
    "quantile(num_friends, 0.10)"
   ]
  },
  {
   "cell_type": "code",
   "execution_count": 21,
   "id": "d41311d0",
   "metadata": {},
   "outputs": [
    {
     "data": {
      "text/plain": [
       "3"
      ]
     },
     "execution_count": 21,
     "metadata": {},
     "output_type": "execute_result"
    }
   ],
   "source": [
    "quantile(num_friends, 0.25)"
   ]
  },
  {
   "cell_type": "code",
   "execution_count": 22,
   "id": "a9689f40",
   "metadata": {},
   "outputs": [
    {
     "data": {
      "text/plain": [
       "6"
      ]
     },
     "execution_count": 22,
     "metadata": {},
     "output_type": "execute_result"
    }
   ],
   "source": [
    "quantile(num_friends, 0.50)"
   ]
  },
  {
   "cell_type": "code",
   "execution_count": 23,
   "id": "d5dcf28c",
   "metadata": {},
   "outputs": [
    {
     "data": {
      "text/plain": [
       "9"
      ]
     },
     "execution_count": 23,
     "metadata": {},
     "output_type": "execute_result"
    }
   ],
   "source": [
    "quantile(num_friends, 0.75)"
   ]
  },
  {
   "cell_type": "code",
   "execution_count": 24,
   "id": "59a3cb1e",
   "metadata": {},
   "outputs": [
    {
     "data": {
      "text/plain": [
       "13"
      ]
     },
     "execution_count": 24,
     "metadata": {},
     "output_type": "execute_result"
    }
   ],
   "source": [
    "quantile(num_friends, 0.90)"
   ]
  },
  {
   "cell_type": "markdown",
   "id": "0e24fc51",
   "metadata": {},
   "source": [
    "### mode"
   ]
  },
  {
   "cell_type": "code",
   "execution_count": 25,
   "id": "6e03f08e",
   "metadata": {},
   "outputs": [],
   "source": [
    "def mode(x: List[float]) -> List[float]:\n",
    "    \"\"\"Returns a list, since there might be more than one mode\"\"\"\n",
    "    counts = Counter(x)\n",
    "    max_count = max(counts.values())\n",
    "    return [x_i for x_i, count in counts.items()\n",
    "           if count == max_count]"
   ]
  },
  {
   "cell_type": "code",
   "execution_count": 26,
   "id": "dedb7b66",
   "metadata": {},
   "outputs": [
    {
     "data": {
      "text/plain": [
       "{1, 6}"
      ]
     },
     "execution_count": 26,
     "metadata": {},
     "output_type": "execute_result"
    }
   ],
   "source": [
    "set(mode(num_friends))"
   ]
  },
  {
   "cell_type": "markdown",
   "id": "88163c81",
   "metadata": {},
   "source": [
    "### dispersion"
   ]
  },
  {
   "cell_type": "markdown",
   "id": "4e9b08b6",
   "metadata": {},
   "source": [
    "#### data range"
   ]
  },
  {
   "cell_type": "code",
   "execution_count": 27,
   "id": "3dbb14e5",
   "metadata": {},
   "outputs": [],
   "source": [
    "# \"range\" already means something in Python, so we'll use a different name\n",
    "def data_range(xs: List[float]) -> float:\n",
    "    \"\"\"\"\"\"\n",
    "    return max(xs) - min(xs)"
   ]
  },
  {
   "cell_type": "code",
   "execution_count": 28,
   "id": "8a4b2a2e",
   "metadata": {},
   "outputs": [
    {
     "data": {
      "text/plain": [
       "99.0"
      ]
     },
     "execution_count": 28,
     "metadata": {},
     "output_type": "execute_result"
    }
   ],
   "source": [
    "data_range(num_friends)"
   ]
  },
  {
   "cell_type": "markdown",
   "id": "3567539e",
   "metadata": {},
   "source": [
    "#### variance"
   ]
  },
  {
   "cell_type": "code",
   "execution_count": 29,
   "id": "74cf7446",
   "metadata": {},
   "outputs": [
    {
     "name": "stdout",
     "output_type": "stream",
     "text": [
      "Requirement already satisfied: numpy in c:\\users\\felipe\\anaconda3\\envs\\dsfs\\lib\\site-packages (1.19.5)\n"
     ]
    }
   ],
   "source": [
    "!pip install numpy"
   ]
  },
  {
   "cell_type": "code",
   "execution_count": 30,
   "id": "7e1cf0e7",
   "metadata": {},
   "outputs": [],
   "source": [
    "import numpy as np"
   ]
  },
  {
   "cell_type": "code",
   "execution_count": 31,
   "id": "d4363d54",
   "metadata": {},
   "outputs": [],
   "source": [
    "def sum_of_squares(v: Vector) -> float:\n",
    "    \"\"\"Returns v_1 * v_1 + ... + v_n * v_n\"\"\"\n",
    "    return np.dot(v, v)"
   ]
  },
  {
   "cell_type": "code",
   "execution_count": 32,
   "id": "bcd84102",
   "metadata": {},
   "outputs": [],
   "source": [
    "def de_mean(xs: List[float]) -> List[float]:\n",
    "    \"\"\"Translate xs by subtracting its mean (so the result has mean 0)\"\"\"\n",
    "    x_bar = mean(xs)\n",
    "    return [x - x_bar for x in xs]"
   ]
  },
  {
   "cell_type": "code",
   "execution_count": 33,
   "id": "beec79e5",
   "metadata": {},
   "outputs": [],
   "source": [
    "def variance(xs: List[float]) -> float:\n",
    "    \"\"\"Almost the average squared deviation from the mean\"\"\"\n",
    "    assert len(xs) >= 2, \"variance requires at least two elements\"\n",
    "    n = len(xs)\n",
    "    deviations = de_mean(xs)\n",
    "    return sum_of_squares(deviations) / (n - 1)"
   ]
  },
  {
   "cell_type": "code",
   "execution_count": 34,
   "id": "cea6ffeb",
   "metadata": {},
   "outputs": [
    {
     "data": {
      "text/plain": [
       "81.54351395730706"
      ]
     },
     "execution_count": 34,
     "metadata": {},
     "output_type": "execute_result"
    }
   ],
   "source": [
    "variance(num_friends)"
   ]
  },
  {
   "cell_type": "markdown",
   "id": "abdd062c",
   "metadata": {},
   "source": [
    "#### Standard deviation"
   ]
  },
  {
   "cell_type": "code",
   "execution_count": 35,
   "id": "9fcc5a33",
   "metadata": {},
   "outputs": [],
   "source": [
    "import math"
   ]
  },
  {
   "cell_type": "code",
   "execution_count": 36,
   "id": "3c2d0daa",
   "metadata": {},
   "outputs": [],
   "source": [
    "def standard_deviation(xs: List[float]) -> float:\n",
    "    \"\"\"The standard deviation is the square root of the variance\"\"\"\n",
    "    return math.sqrt(variance(xs))"
   ]
  },
  {
   "cell_type": "code",
   "execution_count": 37,
   "id": "0488d464",
   "metadata": {},
   "outputs": [
    {
     "data": {
      "text/plain": [
       "9.030144736232474"
      ]
     },
     "execution_count": 37,
     "metadata": {},
     "output_type": "execute_result"
    }
   ],
   "source": [
    "standard_deviation(num_friends)"
   ]
  },
  {
   "cell_type": "markdown",
   "id": "4d56770c",
   "metadata": {},
   "source": [
    "#### interquartile_range"
   ]
  },
  {
   "cell_type": "code",
   "execution_count": 38,
   "id": "cbc2f648",
   "metadata": {},
   "outputs": [],
   "source": [
    "def interquartile_range(xs: List[float]) -> float:\n",
    "    \"\"\"Returns the difference between the 75%-ile and the 25%-ile\"\"\"\n",
    "    return quantile(xs, 0.75) - quantile(xs, 0.25)"
   ]
  },
  {
   "cell_type": "code",
   "execution_count": 39,
   "id": "442542c3",
   "metadata": {},
   "outputs": [
    {
     "data": {
      "text/plain": [
       "6"
      ]
     },
     "execution_count": 39,
     "metadata": {},
     "output_type": "execute_result"
    }
   ],
   "source": [
    "interquartile_range(num_friends)"
   ]
  },
  {
   "cell_type": "markdown",
   "id": "e7e1f084",
   "metadata": {},
   "source": [
    "### Correlation"
   ]
  },
  {
   "cell_type": "code",
   "execution_count": 40,
   "id": "82e89cc5",
   "metadata": {},
   "outputs": [],
   "source": [
    "daily_minutes = [1,68.77,51.25,52.08,38.36,44.54,57.13,51.4,41.42,31.22,34.76,54.01,38.79,47.59,49.1,27.66,41.03,36.73,48.65,28.12,46.62,35.57,32.98,35,26.07,23.77,39.73,40.57,31.65,31.21,36.32,20.45,21.93,26.02,27.34,23.49,46.94,30.5,33.8,24.23,21.4,27.94,32.24,40.57,25.07,19.42,22.39,18.42,46.96,23.72,26.41,26.97,36.76,40.32,35.02,29.47,30.2,31,38.11,38.18,36.31,21.03,30.86,36.07,28.66,29.08,37.28,15.28,24.17,22.31,30.17,25.53,19.85,35.37,44.6,17.23,13.47,26.33,35.02,32.09,24.81,19.33,28.77,24.26,31.98,25.73,24.86,16.28,34.51,15.23,39.72,40.8,26.06,35.76,34.76,16.13,44.04,18.03,19.65,32.62,35.59,39.43,14.18,35.24,40.13,41.82,35.45,36.07,43.67,24.61,20.9,21.9,18.79,27.61,27.21,26.61,29.77,20.59,27.53,13.82,33.2,25,33.1,36.65,18.63,14.87,22.2,36.81,25.53,24.62,26.25,18.21,28.08,19.42,29.79,32.8,35.99,28.32,27.79,35.88,29.06,36.28,14.1,36.63,37.49,26.9,18.58,38.48,24.48,18.95,33.55,14.24,29.04,32.51,25.63,22.22,19,32.73,15.16,13.9,27.2,32.01,29.27,33,13.74,20.42,27.32,18.23,35.35,28.48,9.08,24.62,20.12,35.26,19.92,31.02,16.49,12.16,30.7,31.22,34.65,13.13,27.51,33.2,31.57,14.1,33.42,17.44,10.12,24.42,9.82,23.39,30.93,15.03,21.67,31.09,33.29,22.61,26.89,23.48,8.38,27.81,32.35,23.84]\n"
   ]
  },
  {
   "cell_type": "code",
   "execution_count": 41,
   "id": "59edb697",
   "metadata": {},
   "outputs": [],
   "source": [
    "daily_hours = [dm / 60 for dm in daily_minutes]"
   ]
  },
  {
   "cell_type": "code",
   "execution_count": 42,
   "id": "cb41352c",
   "metadata": {},
   "outputs": [],
   "source": [
    "def covariance(xs: List[float], ys: List[float]) -> float:\n",
    "    assert len(xs) == len(ys), \"xs and ys have same number of elements\"\n",
    "    \n",
    "    return np.dot(de_mean(xs), de_mean(ys)) / (len(xs) - 1)"
   ]
  },
  {
   "cell_type": "code",
   "execution_count": 43,
   "id": "d5d67024",
   "metadata": {},
   "outputs": [
    {
     "data": {
      "text/plain": [
       "22.425435139573057"
      ]
     },
     "execution_count": 43,
     "metadata": {},
     "output_type": "execute_result"
    }
   ],
   "source": [
    "covariance(num_friends, daily_minutes)"
   ]
  },
  {
   "cell_type": "code",
   "execution_count": 44,
   "id": "3796628b",
   "metadata": {},
   "outputs": [
    {
     "data": {
      "text/plain": [
       "22.42543513957307"
      ]
     },
     "execution_count": 44,
     "metadata": {},
     "output_type": "execute_result"
    }
   ],
   "source": [
    "covariance(num_friends, daily_hours) *60"
   ]
  },
  {
   "cell_type": "code",
   "execution_count": 45,
   "id": "064452b8",
   "metadata": {},
   "outputs": [],
   "source": [
    "def correlation(xs: List[float], ys: List[float]) -> float:\n",
    "    \"\"\"Measures how much xs and ys vary in tandem about their means\"\"\"\n",
    "    stdev_x = standard_deviation(xs)\n",
    "    stdev_y = standard_deviation(ys)\n",
    "    if stdev_x > 0 and stdev_y > 0:\n",
    "        return covariance(xs, ys) / stdev_x / stdev_y\n",
    "    else:\n",
    "        return 0 # If no variation, correlation is Zero"
   ]
  },
  {
   "cell_type": "code",
   "execution_count": 47,
   "id": "a83b941b",
   "metadata": {},
   "outputs": [],
   "source": [
    "assert 0.24 < correlation(num_friends, daily_minutes) < 0.25\n",
    "assert 0.24 < correlation(num_friends, daily_hours) < 0.25"
   ]
  },
  {
   "cell_type": "code",
   "execution_count": 63,
   "id": "638923af",
   "metadata": {},
   "outputs": [
    {
     "data": {
      "image/png": "[encoded data removed]",
      "text/plain": [
       "<Figure size 432x288 with 1 Axes>"
      ]
     },
     "metadata": {
      "needs_background": "light"
     },
     "output_type": "display_data"
    }
   ],
   "source": [
    "# create a line chart, years on x-axis, gdp on y-axis\n",
    "plt.scatter(num_friends, daily_minutes, color='blue', edgecolors='black', marker='.')\n",
    "# add a title\n",
    "plt.title(\"Correlation with an Outlier\")\n",
    "# add a label to the y-axis\n",
    "plt.xlabel(\"# of friends\")\n",
    "plt.ylabel(\"minutes per day\")\n",
    "plt.show()"
   ]
  },
  {
   "cell_type": "markdown",
   "id": "d46a5fd2",
   "metadata": {},
   "source": [
    "The person with 100 friends (who spends only 1 minute per day on the site) is a huge outlier, and correlation can be very sensitive to outliers. What happens if we ignore him?"
   ]
  },
  {
   "cell_type": "code",
   "execution_count": 59,
   "id": "832ea670",
   "metadata": {},
   "outputs": [],
   "source": [
    "outlier = num_friends.index(100)   # index of outlier\n",
    "\n",
    "num_friends_good = [x\n",
    "                    for i, x in enumerate(num_friends)\n",
    "                    if i != outlier]\n",
    "\n",
    "daily_minutes_good = [x\n",
    "                      for i, x in enumerate(daily_minutes)\n",
    "                      if i != outlier]\n",
    "\n",
    "daily_hours_good = [dm / 60 for dm in daily_minutes_good]"
   ]
  },
  {
   "cell_type": "code",
   "execution_count": 60,
   "id": "532c74b0",
   "metadata": {},
   "outputs": [],
   "source": [
    "assert 0.57 < correlation(num_friends_good, daily_minutes_good) < 0.58\n",
    "assert 0.57 < correlation(num_friends_good, daily_hours_good) < 0.58"
   ]
  },
  {
   "cell_type": "code",
   "execution_count": 62,
   "id": "c9ab11e7",
   "metadata": {},
   "outputs": [
    {
     "data": {
      "image/png": "[encoded data removed]",
      "text/plain": [
       "<Figure size 432x288 with 1 Axes>"
      ]
     },
     "metadata": {
      "needs_background": "light"
     },
     "output_type": "display_data"
    }
   ],
   "source": [
    "# create a line chart, years on x-axis, gdp on y-axis\n",
    "plt.scatter(num_friends_good, daily_minutes_good, color='blue', edgecolors='black', marker='.')\n",
    "# add a title\n",
    "plt.title(\"Correlation with an Outlier\")\n",
    "# add a label to the y-axis\n",
    "plt.xlabel(\"# of friends\")\n",
    "plt.ylabel(\"minutes per day\")\n",
    "plt.show()"
   ]
  },
  {
   "cell_type": "markdown",
   "id": "a053f33a",
   "metadata": {},
   "source": [
    "## Simpson’s Paradox"
   ]
  },
  {
   "cell_type": "code",
   "execution_count": null,
   "id": "9a853ed3",
   "metadata": {},
   "outputs": [],
   "source": []
  }
 ],
 "metadata": {
  "kernelspec": {
   "display_name": "Python 3",
   "language": "python",
   "name": "python3"
  },
  "language_info": {
   "codemirror_mode": {
    "name": "ipython",
    "version": 3
   },
   "file_extension": ".py",
   "mimetype": "text/x-python",
   "name": "python",
   "nbconvert_exporter": "python",
   "pygments_lexer": "ipython3",
   "version": "3.6.13"
  }
 },
 "nbformat": 4,
 "nbformat_minor": 5
}
